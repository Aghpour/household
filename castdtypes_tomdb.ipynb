{
 "cells": [
  {
   "cell_type": "code",
   "execution_count": 1,
   "metadata": {},
   "outputs": [],
   "source": [
    "import pyodbc\n",
    "import glob\n",
    "\n",
    "# Define a function to create the new table\n",
    "def create_new_table(cursor, source_table_name):\n",
    "    text_cols = ['DYCOL03', 'TakmilDescC']\n",
    "    # Get the column names from the source table\n",
    "    cursor.execute(f'SELECT * FROM {source_table_name}')\n",
    "    column_names = [column[0] for column in cursor.description]\n",
    "    # exclude text columns\n",
    "    if source_table_name.endswith('P3S13') or source_table_name.endswith('Data'):\n",
    "        excluded_columns = [item for item in column_names if item in text_cols]\n",
    "        column_names = [item for item in column_names if item not in text_cols]\n",
    "        select_clause = ', '.join([f'IIF(ISNUMERIC([{source_table_name}].[{column_name}]), [{source_table_name}].[{column_name}] * 1, 0) AS {column_name}' for column_name in column_names])\n",
    "        for column_name in excluded_columns:\n",
    "            # add text columns again\n",
    "            select_clause += f', [{source_table_name}].[{column_name}] AS {column_name}'\n",
    "    else:\n",
    "        select_clause = ', '.join([f'IIF(ISNUMERIC([{source_table_name}].[{column_name}]), [{source_table_name}].[{column_name}] * 1, 0) AS {column_name}' for column_name in column_names])\n",
    "    into_clause = f'N{source_table_name}'\n",
    "    sql_command = f'SELECT {select_clause} INTO {into_clause} FROM {source_table_name}'\n",
    "\n",
    "    # Create a new table with all columns from the source table\n",
    "    cursor.execute(sql_command)\n",
    "\n",
    "# Define a function to delete the old table\n",
    "def delete_old_table(cursor, source_table_name):\n",
    "    cursor.execute(f'DROP TABLE {source_table_name}')\n",
    "\n",
    "# Define main function\n",
    "def main(file_path):\n",
    "    file_path = str(file_path)\n",
    "    # Set up the connection string\n",
    "    conn_str = str(\n",
    "        r'DRIVER={Microsoft Access Driver (*.mdb, *.accdb)};'\n",
    "        rf'DBQ={file_path};'\n",
    "    )\n",
    "\n",
    "        # Connect to the MS Access database\n",
    "    with pyodbc.connect(conn_str) as conn:\n",
    "        cursor = conn.cursor()\n",
    "        table_names = [x.table_name for x in cursor.tables() if x.table_type == 'TABLE']\n",
    "        for table in table_names:\n",
    "            # Call the function to create the new table\n",
    "            create_new_table(cursor, table)\n",
    "\n",
    "            # Call the function to replace null values with zero\n",
    "            #replace_null_values(cursor, '1400test')\n",
    "\n",
    "            # Call the function to delete the old table\n",
    "            delete_old_table(cursor, table)\n"
   ]
  },
  {
   "cell_type": "code",
   "execution_count": null,
   "metadata": {},
   "outputs": [],
   "source": [
    "# specify the directory to search in\n",
    "directory = r\"C:\\Users\\user\\Downloads\\a_folder\"        # put mdb files folder address\n",
    "# find all .mdb files in the directory\n",
    "mdb_files = glob.glob(directory + '/*.mdb')\n",
    "\n",
    "for file in mdb_files:\n",
    "    main(file)"
   ]
  }
 ],
 "metadata": {
  "kernelspec": {
   "display_name": "Python 3",
   "language": "python",
   "name": "python3"
  },
  "language_info": {
   "codemirror_mode": {
    "name": "ipython",
    "version": 3
   },
   "file_extension": ".py",
   "mimetype": "text/x-python",
   "name": "python",
   "nbconvert_exporter": "python",
   "pygments_lexer": "ipython3",
   "version": "3.11.2"
  },
  "orig_nbformat": 4
 },
 "nbformat": 4,
 "nbformat_minor": 2
}
