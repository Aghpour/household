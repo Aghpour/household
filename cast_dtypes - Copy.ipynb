{
 "cells": [
  {
   "cell_type": "code",
   "execution_count": null,
   "metadata": {},
   "outputs": [],
   "source": [
    "import pyodbc\n",
    "import pandas as pd\n",
    "import warnings\n",
    "import sqlite3\n",
    "from IPython.display import clear_output\n",
    "warnings.filterwarnings('ignore')"
   ]
  },
  {
   "cell_type": "code",
   "execution_count": null,
   "metadata": {},
   "outputs": [],
   "source": [
    "def get_data_type(x):\n",
    "    type_ranges = {\n",
    "        'int8': (-128, 127),\n",
    "        'int16': (-32768, 32767),\n",
    "        'int32': (-2147483648, 2147483647),\n",
    "        'int64': (-9223372036854775808, 9223372036854775807),\n",
    "        'float32': (-3.4028235e38, 3.4028235e38),\n",
    "        'float64': (-1.7976931348623157e308, 1.7976931348623157e308)\n",
    "    }\n",
    "\n",
    "    for data_type, value_range in type_ranges.items():\n",
    "        if value_range[0] <= x <= value_range[1]:\n",
    "            return data_type\n",
    "\n",
    "    return 'not a valid data type'"
   ]
  },
  {
   "cell_type": "code",
   "execution_count": null,
   "metadata": {},
   "outputs": [],
   "source": [
    "import pyodbc\n",
    "import sqlite3\n",
    "import pandas as pd\n",
    "\n",
    "# Data cleaning\n",
    "col_exc = ['DYCOL03', 'TakmilDescC']\n",
    "pattern = r'^\\D|^$'\n",
    "passed_zero = {}\n",
    "empty_table = []\n",
    "def main(file, file_name):\n",
    "    # Constants\n",
    "    db_dir = file\n",
    "    msa_drivers = [x for x in pyodbc.drivers() if 'ACCESS' in x.upper()]\n",
    "    con_string = f'DRIVER={msa_drivers[0]};DBQ={db_dir}'  # msa_drivers[0] = 'Microsoft Access Driver (*.mdb, *.accdb)'\n",
    "    print('db_dir and con_string created.')\n",
    "\n",
    "    with pyodbc.connect(con_string) as conn_pyodbc, sqlite3.connect(f'{file_name}.db') as conn_sqlite3:\n",
    "        cursor = conn_pyodbc.cursor()\n",
    "        print('conn_pyodbc, cursor and conn_sqlite3 created')\n",
    "\n",
    "        # Extract table names and initial columns\n",
    "        table_names = [x.table_name for x in cursor.tables() if x.table_type == 'TABLE']\n",
    "        tables_cols = {table: [x.column_name for x in cursor.columns(table=table)] for table in table_names}\n",
    "        print('table names and initial columns extracted.')\n",
    "\n",
    "        # Filter columns and exclude tables\n",
    "        exclude_tb = list(filter(lambda table: table.endswith('P3S13') or table.endswith('Data'), table_names))\n",
    "        final_tables_cols = {key: [value for value in tables_cols[key] if value not in col_exc]\n",
    "                              if key in exclude_tb else tables_cols[key] for key in tables_cols}\n",
    "        print('columns filtered.')\n",
    "\n",
    "        # Process columns\n",
    "        for table, cols in final_tables_cols.items():\n",
    "            data_types = {}\n",
    "            df = pd.read_sql_query(f\"SELECT * FROM {table}\", conn_pyodbc)\n",
    "            if len(df) == 0:\n",
    "                empty_table.append(table)\n",
    "                continue\n",
    "            print(f'df for {table}, created')\n",
    "            for col in cols:\n",
    "                print(f'process on {col}')\n",
    "                if df[col].dtype == 'object':\n",
    "                    df[col] = df[col].str.lstrip('0').replace(pattern, 0, regex=True)\n",
    "                else:\n",
    "                    passed_zero[table] = col\n",
    "                    pass\n",
    "                maxx = df[col].astype('int64').unique().max()\n",
    "                data_type = get_data_type(maxx)\n",
    "                data_types[col] = data_type\n",
    "                df[col] = df[col].astype(data_type)\n",
    "                print(f'{col} column data type casted.')\n",
    "            df.to_sql(table, conn_sqlite3, if_exists='replace', index=False, dtype=data_types)\n",
    "            data_types = {}\n",
    "            print(f'{table} table inserted to sqlite3 db.')\n",
    "            clear_output(wait=True)\n",
    "\n",
    "    print('conn_pyodbc and conn_sqlite3 closed.')\n"
   ]
  },
  {
   "cell_type": "code",
   "execution_count": null,
   "metadata": {},
   "outputs": [],
   "source": [
    "import glob\n",
    "\n",
    "# specify the directory to search in\n",
    "directory = r\"your_directory\"\n",
    "\n",
    "# find all .mdb files in the directory\n",
    "mdb_files = glob.glob(directory + '/*.mdb')\n",
    "for file in mdb_files:\n",
    "    file_name = str(file).split('\\\\')[-1][:-4]\n",
    "    main(file, file_name)\n"
   ]
  }
 ],
 "metadata": {
  "kernelspec": {
   "display_name": "Python 3",
   "language": "python",
   "name": "python3"
  },
  "language_info": {
   "codemirror_mode": {
    "name": "ipython",
    "version": 3
   },
   "file_extension": ".py",
   "mimetype": "text/x-python",
   "name": "python",
   "nbconvert_exporter": "python",
   "pygments_lexer": "ipython3",
   "version": "3.10.0"
  },
  "orig_nbformat": 4
 },
 "nbformat": 4,
 "nbformat_minor": 2
}
